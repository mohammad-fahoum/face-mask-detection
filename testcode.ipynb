{
 "cells": [
  {
   "cell_type": "code",
   "execution_count": null,
   "id": "8134e16f",
   "metadata": {},
   "outputs": [],
   "source": [
    "import numpy as np \n",
    "import pandas as pd \n",
    "import os\n",
    "import matplotlib.pyplot as plt\n",
    "import cv2\n",
    "import matplotlib.patches as patches\n",
    "import tensorflow as tf\n",
    "from keras.layers import Flatten, Dense, Conv2D, MaxPooling2D, Dropout\n",
    "from keras.models import Sequential"
   ]
  },
  {
   "cell_type": "code",
   "execution_count": null,
   "id": "ede3a723",
   "metadata": {},
   "outputs": [],
   "source": [
    "pip install mtcnn"
   ]
  },
  {
   "cell_type": "code",
   "execution_count": null,
   "id": "98939c5e",
   "metadata": {},
   "outputs": [],
   "source": [
    "from mtcnn.mtcnn import MTCNN"
   ]
  },
  {
   "cell_type": "code",
   "execution_count": null,
   "id": "83bc4462",
   "metadata": {},
   "outputs": [],
   "source": [
    "images=os.path.join(\"project\\data\\face-mask-detection\\images\")\n",
    "annotations=os.path.join(\"project\\data\\face-mask-detection\\annotations\")\n",
    "train=pd.read_csv(os.path.join(\"/kaggle/input/face-mask-detection-dataset/train.csv\"))\n",
    "submission=pd.read_csv(os.path.join(\"/kaggle/input/face-mask-detection-dataset/submission.csv\"))"
   ]
  },
  {
   "cell_type": "code",
   "execution_count": null,
   "id": "7bdeb03f",
   "metadata": {},
   "outputs": [],
   "source": [
    "print(len(train))\n",
    "train.head()"
   ]
  },
  {
   "cell_type": "code",
   "execution_count": null,
   "id": "aae456d9",
   "metadata": {},
   "outputs": [],
   "source": [
    "print(len(submission))\n",
    "submission.head()"
   ]
  },
  {
   "cell_type": "code",
   "execution_count": null,
   "id": "2148b0b1",
   "metadata": {},
   "outputs": [],
   "source": [
    "len(os.listdir(images))"
   ]
  },
  {
   "cell_type": "code",
   "execution_count": null,
   "id": "e2282c5d",
   "metadata": {},
   "outputs": [],
   "source": [
    "len(os.listdir(images))"
   ]
  },
  {
   "cell_type": "code",
   "execution_count": null,
   "id": "4c0e96e2",
   "metadata": {},
   "outputs": [],
   "source": [
    "print(len(b),len(a))"
   ]
  },
  {
   "cell_type": "code",
   "execution_count": null,
   "id": "da9386c0",
   "metadata": {},
   "outputs": [],
   "source": [
    "train_images=a[1698:]\n",
    "test_images=a[:1698]"
   ]
  },
  {
   "cell_type": "code",
   "execution_count": null,
   "id": "d5e557e8",
   "metadata": {},
   "outputs": [],
   "source": [
    "test_images[0]"
   ]
  },
  {
   "cell_type": "code",
   "execution_count": null,
   "id": "4d05a00c",
   "metadata": {},
   "outputs": [],
   "source": [
    "img=plt.imread(os.path.join(images,test_images[0]))\n",
    "plt.imshow(img)\n",
    "plt.show()"
   ]
  },
  {
   "cell_type": "code",
   "execution_count": null,
   "id": "65eaa9be",
   "metadata": {},
   "outputs": [],
   "source": [
    "img=plt.imread(os.path.join(images,train_images[1]))\n",
    "plt.imshow(img)\n",
    "plt.show()"
   ]
  },
  {
   "cell_type": "code",
   "execution_count": null,
   "id": "770e8d1a",
   "metadata": {},
   "outputs": [],
   "source": [
    "options=['face_with_mask','face_no_mask']\n",
    "train= train[train['classname'].isin(options)]\n",
    "train.sort_values('name',axis=0,inplace=True)"
   ]
  },
  {
   "cell_type": "code",
   "execution_count": null,
   "id": "c555cc83",
   "metadata": {},
   "outputs": [],
   "source": [
    "bbox=[]\n",
    "for i in range(len(train)):\n",
    "    arr=[]\n",
    "    for j in train.iloc[i][[\"x1\",'x2','y1','y2']]:\n",
    "        arr.append(j)\n",
    "    bbox.append(arr)\n",
    "train[\"bbox\"]=bbox  \n",
    "def get_boxes(id):\n",
    "    boxes=[]\n",
    "    for i in train[train[\"name\"]==str(id)][\"bbox\"]:\n",
    "        boxes.append(i)\n",
    "    return boxes\n",
    "print(get_boxes(train_images[3]))\n",
    "image=train_images[3]\n",
    "\n",
    "img=plt.imread(os.path.join(images,image))\n",
    "\n",
    "fig,ax = plt.subplots(1)\n",
    "ax.imshow(img)\n",
    "boxes=get_boxes(image)\n",
    "for box in boxes:\n",
    "    rect = patches.Rectangle((box[0],box[1]),box[2]-box[0],box[3]-box[1],linewidth=2,edgecolor='r',facecolor='none')\n",
    "    ax.add_patch(rect)\n",
    "plt.show()"
   ]
  },
  {
   "cell_type": "code",
   "execution_count": null,
   "id": "3393ff5d",
   "metadata": {},
   "outputs": [],
   "source": [
    "image=train_images[5]\n",
    "\n",
    "img=plt.imread(os.path.join(images,image))\n",
    "\n",
    "fig,ax = plt.subplots(1)\n",
    "ax.imshow(img)\n",
    "boxes=get_boxes(image)\n",
    "for box in boxes:\n",
    "    rect = patches.Rectangle((box[0],box[1]),box[2]-box[0],box[3]-box[1],linewidth=2,edgecolor='r',facecolor='none')\n",
    "    ax.add_patch(rect)\n",
    "plt.show()"
   ]
  },
  {
   "cell_type": "code",
   "execution_count": null,
   "id": "e255eff4",
   "metadata": {},
   "outputs": [],
   "source": [
    "plt.bar(['face_with_mask','face_no_mask'],train.classname.value_counts())"
   ]
  },
  {
   "cell_type": "code",
   "execution_count": null,
   "id": "f861ce63",
   "metadata": {},
   "outputs": [],
   "source": [
    "img_size=50\n",
    "data=[]\n",
    "path='/kaggle/input/face-mask-detection-dataset/Medical mask/Medical mask/Medical Mask/images/'\n",
    "def create_data():\n",
    "       for i in range(len(train)):\n",
    "            arr=[]\n",
    "            for j in train.iloc[i]:\n",
    "                   arr.append(j)\n",
    "            img_array=cv2.imread(os.path.join(images,arr[0]),cv2.IMREAD_GRAYSCALE)\n",
    "            crop_image = img_array[arr[2]:arr[4],arr[1]:arr[3]]\n",
    "            new_img_array=cv2.resize(crop_image,(img_size,img_size))\n",
    "            data.append([new_img_array,arr[5]])\n",
    "create_data()      "
   ]
  },
  {
   "cell_type": "code",
   "execution_count": null,
   "id": "02c0020f",
   "metadata": {},
   "outputs": [],
   "source": [
    "data[0][0]\n",
    "plt.imshow(data[0][0])"
   ]
  },
  {
   "cell_type": "code",
   "execution_count": null,
   "id": "e8b439e5",
   "metadata": {},
   "outputs": [],
   "source": [
    "x=[]\n",
    "y=[]\n",
    "for features, labels in data:\n",
    "    x.append(features)\n",
    "    y.append(labels)\n",
    "from sklearn.preprocessing import LabelEncoder\n",
    "lbl=LabelEncoder()\n",
    "y=lbl.fit_transform(y)"
   ]
  },
  {
   "cell_type": "code",
   "execution_count": null,
   "id": "38636fda",
   "metadata": {},
   "outputs": [],
   "source": [
    "x=np.array(x).reshape(-1,50,50,1)\n",
    "x=tf.keras.utils.normalize(x,axis=1)\n",
    "from keras.utils import to_categorical\n",
    "y = to_categorical(y)"
   ]
  },
  {
   "cell_type": "code",
   "execution_count": null,
   "id": "64162a2a",
   "metadata": {},
   "outputs": [],
   "source": [
    "# model fitting\n",
    "from keras.layers import LSTM\n",
    "model=Sequential()\n",
    "model.add(Conv2D(100,(3,3),input_shape=x.shape[1:],activation='relu',strides=2))\n",
    "model.add(MaxPooling2D(pool_size=(2,2)))\n",
    "model.add(Conv2D(64,(3,3),activation='relu'))\n",
    "model.add(MaxPooling2D(pool_size=(2,2)))\n",
    "model.add(Flatten())\n",
    "model.add(Dense(50, activation='relu'))\n",
    "model.add(Dropout(0.2))\n",
    "\n",
    "model.add(Dense(2, activation='softmax'))\n"
   ]
  },
  {
   "cell_type": "code",
   "execution_count": null,
   "id": "03203b37",
   "metadata": {},
   "outputs": [],
   "source": [
    "detector=MTCNN()\n",
    "img=plt.imread(os.path.join(images,test_images[0]))\n",
    "face=detector.detect_faces(img)\n",
    "for face in face:\n",
    "        bounding_box=face['box']\n",
    "        x=cv2.rectangle(img,\n",
    "              (bounding_box[0], bounding_box[1]),\n",
    "              (bounding_box[0]+bounding_box[2], bounding_box[1] + bounding_box[3]),\n",
    "              (0,155,255),\n",
    "              10)\n",
    "        plt.imshow(x)"
   ]
  },
  {
   "cell_type": "code",
   "execution_count": null,
   "id": "92aec197",
   "metadata": {},
   "outputs": [],
   "source": [
    "img=plt.imread(os.path.join(images,test_images[3]))\n",
    "face=detector.detect_faces(img)\n",
    "for face in face:\n",
    "        bounding_box=face['box']\n",
    "        x=cv2.rectangle(img,\n",
    "              (bounding_box[0], bounding_box[1]),\n",
    "              (bounding_box[0]+bounding_box[2], bounding_box[1] + bounding_box[3]),\n",
    "              (0,155,255),\n",
    "              10)\n",
    "        plt.imshow(x)"
   ]
  },
  {
   "cell_type": "code",
   "execution_count": null,
   "id": "506f96c5",
   "metadata": {},
   "outputs": [],
   "source": [
    "detector=MTCNN()\n",
    "test_df=[]\n",
    "for image in test_images:\n",
    "    img=plt.imread(os.path.join(images,image))\n",
    "    faces=detector.detect_faces(img)\n",
    "    test=[]\n",
    "    for face in faces:\n",
    "        bounding_box=face['box']\n",
    "        test.append([image,bounding_box])\n",
    "    test_df.append(test)\n",
    "test=[]\n",
    "for i in test_df:\n",
    "    if len(i)>0:\n",
    "        if len(i)==1:\n",
    "            test.append(i[0])\n",
    "        else:\n",
    "            for j in i:\n",
    "                test.append(j)  \n",
    "sub=[]\n",
    "rest_image=[]\n",
    "for i in test:\n",
    "    sub.append(i[0])\n",
    "for image in test_images:\n",
    "    if image not in sub:\n",
    "        rest_image.append(image) \n",
    "detector=MTCNN()\n",
    "test_df_=[]\n",
    "for image in rest_image:\n",
    "    img=cv2.imread(os.path.join(images,image))\n",
    "    faces=detector.detect_faces(img)\n",
    "    test_=[]\n",
    "    for face in faces:\n",
    "        bounding_box=face['box']\n",
    "        test_.append([image,bounding_box])\n",
    "    test_df_.append(test_) \n",
    "for i in test_df_:\n",
    "    if len(i)>0:\n",
    "        if len(i)==1:\n",
    "            test.append(i[0])\n",
    "        else:\n",
    "            for j in i:\n",
    "                test.append(j)      "
   ]
  },
  {
   "cell_type": "code",
   "execution_count": null,
   "id": "f15cff04",
   "metadata": {},
   "outputs": [],
   "source": [
    "negative=[]\n",
    "for i in test:\n",
    "    for j in i[1]:\n",
    "        if j<0:\n",
    "            negative.append(i)"
   ]
  },
  {
   "cell_type": "code",
   "execution_count": null,
   "id": "9be500e6",
   "metadata": {},
   "outputs": [],
   "source": [
    "test_data=[]\n",
    "def create_test_data():\n",
    "            for j in test:\n",
    "                if j not in negative:\n",
    "                    img=cv2.imread(os.path.join(images,j[0]),cv2.IMREAD_GRAYSCALE)\n",
    "                    img=img[j[1][1]:j[1][1]+j[1][3],j[1][0]:j[1][0]+j[1][2]]\n",
    "                    new_img=cv2.resize(img,(50,50))\n",
    "                    new_img=new_img.reshape(-1,50,50,1)\n",
    "                    predict=model.predict(new_img)\n",
    "                    test_data.append([j,predict])\n",
    "\n",
    "create_test_data()      "
   ]
  },
  {
   "cell_type": "code",
   "execution_count": null,
   "id": "516ea55d",
   "metadata": {},
   "outputs": [],
   "source": [
    "image=[]\n",
    "classname=[]\n",
    "for i,j in test_data:\n",
    "    classname.append(np.argmax(j))\n",
    "    image.append(i)\n",
    "df=pd.DataFrame(columns=['image','classname'])\n",
    "df['image']=image\n",
    "df['classname']=classname\n",
    "df['classname']=lbl.inverse_transform(df['classname'])\n",
    "image=[]\n",
    "x1=[]\n",
    "x2=[]\n",
    "y1=[]\n",
    "y2=[]\n",
    "for i in df['image']:\n",
    "    image.append(i[0])\n",
    "    x1.append(i[1][0])\n",
    "    x2.append(i[1][1])\n",
    "    y1.append(i[1][2])\n",
    "    y2.append(i[1][3])\n",
    "df['name']=image\n",
    "df['x1']=x1\n",
    "df['x2']=x2\n",
    "df['y1']=y1\n",
    "df['y2']=y2    \n",
    "df.drop(['image'],axis=1,inplace=True)"
   ]
  },
  {
   "cell_type": "code",
   "execution_count": null,
   "id": "59d5615d",
   "metadata": {},
   "outputs": [],
   "source": [
    "df.sort_values('name',axis=0,inplace=True,ascending=False)\n",
    "df.to_csv('submission_1.csv')"
   ]
  }
 ],
 "metadata": {
  "kernelspec": {
   "display_name": "Python 3 (ipykernel)",
   "language": "python",
   "name": "python3"
  },
  "language_info": {
   "codemirror_mode": {
    "name": "ipython",
    "version": 3
   },
   "file_extension": ".py",
   "mimetype": "text/x-python",
   "name": "python",
   "nbconvert_exporter": "python",
   "pygments_lexer": "ipython3",
   "version": "3.9.12"
  }
 },
 "nbformat": 4,
 "nbformat_minor": 5
}
